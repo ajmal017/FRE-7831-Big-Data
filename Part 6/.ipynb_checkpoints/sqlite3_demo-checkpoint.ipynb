{
 "cells": [
  {
   "cell_type": "code",
   "execution_count": 4,
   "metadata": {},
   "outputs": [
    {
     "data": {
      "text/plain": [
       "<sqlite3.Cursor at 0x10fa0a3b0>"
      ]
     },
     "execution_count": 4,
     "metadata": {},
     "output_type": "execute_result"
    }
   ],
   "source": [
    "import sqlite3\n",
    "connection = sqlite3.connect(\"./quiz.db\")\n",
    "cursor = connection.cursor()\n",
    "cursor.execute(\"\"\"Drop table if exists Symbols;\"\"\")"
   ]
  },
  {
   "cell_type": "code",
   "execution_count": 10,
   "metadata": {},
   "outputs": [
    {
     "data": {
      "text/plain": [
       "<sqlite3.Cursor at 0x10fa0a3b0>"
      ]
     },
     "execution_count": 10,
     "metadata": {},
     "output_type": "execute_result"
    }
   ],
   "source": [
    "sql_command = \"\"\"\n",
    "Create Table if not exists Symbols (\n",
    "Symbol text PrimaryKey Not Null,\n",
    "CUSIP text Not Null,\n",
    "CompanyName text Not Null\n",
    ");\n",
    "\"\"\"\n",
    "\n",
    "cursor.execute(sql_command)\n",
    "\n",
    "cursor.executemany(\"Insert into Symbols(Symbol, CUSIP, CompanyName) Values(?, ?, ?)\",\n",
    "[\n",
    "(\"GOOG\", \"38259P508\", \"Alphabet Inc.\"),\n",
    "(\"IBM\", \"459200101\", \"International Business Machines Corporation.\"),\n",
    "(\"C\", \"312072001\", \"Citigroup.\")\n",
    "]\n",
    ")"
   ]
  },
  {
   "cell_type": "code",
   "execution_count": 12,
   "metadata": {},
   "outputs": [
    {
     "data": {
      "text/plain": [
       "<sqlite3.Cursor at 0x10fa0a3b0>"
      ]
     },
     "execution_count": 12,
     "metadata": {},
     "output_type": "execute_result"
    }
   ],
   "source": [
    "# Traders\n",
    "cursor.execute(\"\"\"Drop table if exists Traders;\"\"\")\n",
    "\n",
    "sql_command = \"\"\"\n",
    "Create Table if not exists Traders (\n",
    "TraderID text Primary Key Not Null,\n",
    "LastName text Not Null,\n",
    "FirstName text Not Null,\n",
    "Email text Not Null,\n",
    "Phone text Not Null\n",
    ");\n",
    "\"\"\"\n",
    "\n",
    "cursor.execute(sql_command)"
   ]
  },
  {
   "cell_type": "code",
   "execution_count": 13,
   "metadata": {},
   "outputs": [
    {
     "data": {
      "text/plain": [
       "<sqlite3.Cursor at 0x10fa0a3b0>"
      ]
     },
     "execution_count": 13,
     "metadata": {},
     "output_type": "execute_result"
    }
   ],
   "source": [
    "cursor.executemany(\"Insert into Traders Values(?, ?, ?, ?, ?)\",\n",
    "[\n",
    "(\"1234\", \"ABC\", \"Joe\", \"JA123@gs.com\", \"212-111-1234\"),\n",
    "(\"1245\", \"BCD\", \"Andy\", \"AB123@jp.com\", \"212-222-1234\"),\n",
    "(\"2345\", \"ABC\", \"Smith\", \"SA234@citi.com\", \"212-333-1234\")\n",
    "]\n",
    ")"
   ]
  },
  {
   "cell_type": "code",
   "execution_count": 14,
   "metadata": {},
   "outputs": [
    {
     "data": {
      "text/plain": [
       "<sqlite3.Cursor at 0x10fa0a3b0>"
      ]
     },
     "execution_count": 14,
     "metadata": {},
     "output_type": "execute_result"
    }
   ],
   "source": [
    "# Orders\n",
    "cursor.execute(\"\"\"Drop table if exists Orders;\"\"\")\n",
    "\n",
    "sql_command = \"\"\"\n",
    "Create Table if not exists Orders (\n",
    "OrderID text Primary Key Not Null,\n",
    "Price real ,\n",
    "Quantity integer Not Null,\n",
    "Side char(1) Not Null,\n",
    "OrderType text Not Null,\n",
    "Symbol text Not Null,\n",
    "Foreign Key(Symbol) references Symbols(Symbol)\n",
    ");\n",
    "\"\"\"\n",
    "\n",
    "cursor.execute(sql_command)"
   ]
  },
  {
   "cell_type": "code",
   "execution_count": 15,
   "metadata": {},
   "outputs": [
    {
     "data": {
      "text/plain": [
       "<sqlite3.Cursor at 0x10fa0a3b0>"
      ]
     },
     "execution_count": 15,
     "metadata": {},
     "output_type": "execute_result"
    }
   ],
   "source": [
    "cursor.executemany(\"Insert into Orders Values(?, ?, ?, ?, ?, ?)\",\n",
    "[\n",
    "(\"GSJA000111122015\", \"717.01\", \"200\", \"B\", \"Limit\", \"GOOG\"),\n",
    "(\"JPAB000111132015\", \"\", \"125\", \"S\", \"Market\", \"GOOG\"),\n",
    "(\"CTSA000111132015\", \"131.75\", \"1000\", \"B\", \"Limit\", \"IBM\"),\n",
    "(\"GSJA000211122015\", \"53.17\", \"10000\", \"B\", \"Limit\", \"C\"),\n",
    "(\"JPAB000211132015\", \"131.70\", \"2000\", \"S\", \"Limit\", \"IBM\"),\n",
    "(\"CTSA000211132015\", \"\", \"200\", \"B\", \"Market\", \"C\")\n",
    "]\n",
    ")"
   ]
  },
  {
   "cell_type": "code",
   "execution_count": 17,
   "metadata": {},
   "outputs": [
    {
     "data": {
      "text/plain": [
       "<sqlite3.Cursor at 0x10fa0a3b0>"
      ]
     },
     "execution_count": 17,
     "metadata": {},
     "output_type": "execute_result"
    }
   ],
   "source": [
    "# Executions\n",
    "cursor.execute(\"\"\"Drop table if exists Executions;\"\"\")\n",
    "\n",
    "sql_command = \"\"\"\n",
    "Create Table if not exists Executions (\n",
    "ExecutionsID text PrimaryKey Not Null,\n",
    "Status char(1) Not Null,\n",
    "Exchange char(1) Not Null,\n",
    "FreeText text ,\n",
    "OrderID text Not Null,\n",
    "TraderID text Not Null,\n",
    "Foreign Key(OrderID) references Orders(OrderID),\n",
    "Foreign Key(TraderID) references Traders(TraderID)\n",
    ");\n",
    "\"\"\"\n",
    "\n",
    "cursor.execute(sql_command)"
   ]
  },
  {
   "cell_type": "code",
   "execution_count": 18,
   "metadata": {},
   "outputs": [],
   "source": [
    "cursor.executemany(\"insert into Executions Values(?, ?, ?, ?, ?, ?)\",\n",
    "[\n",
    "(\"123\", \"6\", \"P\", \"Partial Filled\", \"GSJA000111122015\", \"1234\"),\n",
    "(\"124\", \"8\", \"P\", \"Filled\", \"JPAB000111132015\", \"1245\"),\n",
    "(\"125\", \"0\", \"N\", \"Pending\", \"CTSA000111132015\", \"2345\"),\n",
    "(\"126\", \"4\", \"P\", \"Cancelled\", \"GSJA000211122015\", \"1234\"),\n",
    "(\"127\", \"0\", \"N\", \"Pending\", \"JPAB000211132015\", \"1245\"),\n",
    "(\"128\", \"8\", \"N\", \"Filled\", \"CTSA000211132015\", \"2345\")\n",
    "]\n",
    ")\n",
    "\n",
    "connection.commit()\n",
    "connection.close()"
   ]
  },
  {
   "cell_type": "code",
   "execution_count": 27,
   "metadata": {},
   "outputs": [],
   "source": [
    "connection = sqlite3.connect(\"quiz.db\")\n",
    "cursor = connection.cursor()\n",
    "\n",
    "cursor.execute(\" SELECT Symbols.*, Traders.*, Orders.*, Executions.* \\\n",
    "FROM Traders INNER JOIN (Symbols INNER JOIN (Orders INNER JOIN \\\n",
    "Executions ON Orders.OrderID = Executions.OrderID) \\\n",
    "ON Symbols.Symbol = Orders.Symbol) ON \\\n",
    "Traders.TraderID=Executions.TraderID ;\");"
   ]
  },
  {
   "cell_type": "code",
   "execution_count": 28,
   "metadata": {},
   "outputs": [],
   "source": [
    "result = cursor.fetchall()"
   ]
  },
  {
   "cell_type": "code",
   "execution_count": 29,
   "metadata": {},
   "outputs": [
    {
     "name": "stdout",
     "output_type": "stream",
     "text": [
      "('GOOG', '38259P508', 'Alphabet Inc.', '1234', 'ABC', 'Joe', 'JA123@gs.com', '212-111-1234', 'GSJA000111122015', 717.01, 200, 'B', 'Limit', 'GOOG', '123', '6', 'P', 'Partial Filled', 'GSJA000111122015', '1234')\n",
      "('GOOG', '38259P508', 'Alphabet Inc.', '1245', 'BCD', 'Andy', 'AB123@jp.com', '212-222-1234', 'JPAB000111132015', '', 125, 'S', 'Market', 'GOOG', '124', '8', 'P', 'Filled', 'JPAB000111132015', '1245')\n",
      "('IBM', '459200101', 'International Business Machines Corporation.', '2345', 'ABC', 'Smith', 'SA234@citi.com', '212-333-1234', 'CTSA000111132015', 131.75, 1000, 'B', 'Limit', 'IBM', '125', '0', 'N', 'Pending', 'CTSA000111132015', '2345')\n",
      "('C', '312072001', 'Citigroup.', '1234', 'ABC', 'Joe', 'JA123@gs.com', '212-111-1234', 'GSJA000211122015', 53.17, 10000, 'B', 'Limit', 'C', '126', '4', 'P', 'Cancelled', 'GSJA000211122015', '1234')\n",
      "('IBM', '459200101', 'International Business Machines Corporation.', '1245', 'BCD', 'Andy', 'AB123@jp.com', '212-222-1234', 'JPAB000211132015', 131.7, 2000, 'S', 'Limit', 'IBM', '127', '0', 'N', 'Pending', 'JPAB000211132015', '1245')\n",
      "('C', '312072001', 'Citigroup.', '2345', 'ABC', 'Smith', 'SA234@citi.com', '212-333-1234', 'CTSA000211132015', '', 200, 'B', 'Market', 'C', '128', '8', 'N', 'Filled', 'CTSA000211132015', '2345')\n"
     ]
    }
   ],
   "source": [
    "for r in result:\n",
    "    print(r)"
   ]
  },
  {
   "cell_type": "code",
   "execution_count": 25,
   "metadata": {},
   "outputs": [],
   "source": [
    "import pandas as pd"
   ]
  },
  {
   "cell_type": "code",
   "execution_count": 26,
   "metadata": {},
   "outputs": [
    {
     "data": {
      "text/html": [
       "<div>\n",
       "<style scoped>\n",
       "    .dataframe tbody tr th:only-of-type {\n",
       "        vertical-align: middle;\n",
       "    }\n",
       "\n",
       "    .dataframe tbody tr th {\n",
       "        vertical-align: top;\n",
       "    }\n",
       "\n",
       "    .dataframe thead th {\n",
       "        text-align: right;\n",
       "    }\n",
       "</style>\n",
       "<table border=\"1\" class=\"dataframe\">\n",
       "  <thead>\n",
       "    <tr style=\"text-align: right;\">\n",
       "      <th></th>\n",
       "      <th>0</th>\n",
       "      <th>1</th>\n",
       "      <th>2</th>\n",
       "      <th>3</th>\n",
       "      <th>4</th>\n",
       "      <th>5</th>\n",
       "      <th>6</th>\n",
       "      <th>7</th>\n",
       "      <th>8</th>\n",
       "      <th>9</th>\n",
       "      <th>10</th>\n",
       "      <th>11</th>\n",
       "      <th>12</th>\n",
       "      <th>13</th>\n",
       "      <th>14</th>\n",
       "      <th>15</th>\n",
       "      <th>16</th>\n",
       "      <th>17</th>\n",
       "      <th>18</th>\n",
       "      <th>19</th>\n",
       "    </tr>\n",
       "  </thead>\n",
       "  <tbody>\n",
       "    <tr>\n",
       "      <th>0</th>\n",
       "      <td>GOOG</td>\n",
       "      <td>38259P508</td>\n",
       "      <td>Alphabet Inc.</td>\n",
       "      <td>1234</td>\n",
       "      <td>ABC</td>\n",
       "      <td>Joe</td>\n",
       "      <td>JA123@gs.com</td>\n",
       "      <td>212-111-1234</td>\n",
       "      <td>GSJA000111122015</td>\n",
       "      <td>717.01</td>\n",
       "      <td>200</td>\n",
       "      <td>B</td>\n",
       "      <td>Limit</td>\n",
       "      <td>GOOG</td>\n",
       "      <td>123</td>\n",
       "      <td>6</td>\n",
       "      <td>P</td>\n",
       "      <td>Partial Filled</td>\n",
       "      <td>GSJA000111122015</td>\n",
       "      <td>1234</td>\n",
       "    </tr>\n",
       "    <tr>\n",
       "      <th>1</th>\n",
       "      <td>GOOG</td>\n",
       "      <td>38259P508</td>\n",
       "      <td>Alphabet Inc.</td>\n",
       "      <td>1245</td>\n",
       "      <td>BCD</td>\n",
       "      <td>Andy</td>\n",
       "      <td>AB123@jp.com</td>\n",
       "      <td>212-222-1234</td>\n",
       "      <td>JPAB000111132015</td>\n",
       "      <td></td>\n",
       "      <td>125</td>\n",
       "      <td>S</td>\n",
       "      <td>Market</td>\n",
       "      <td>GOOG</td>\n",
       "      <td>124</td>\n",
       "      <td>8</td>\n",
       "      <td>P</td>\n",
       "      <td>Filled</td>\n",
       "      <td>JPAB000111132015</td>\n",
       "      <td>1245</td>\n",
       "    </tr>\n",
       "    <tr>\n",
       "      <th>2</th>\n",
       "      <td>IBM</td>\n",
       "      <td>459200101</td>\n",
       "      <td>International Business Machines Corporation.</td>\n",
       "      <td>2345</td>\n",
       "      <td>ABC</td>\n",
       "      <td>Smith</td>\n",
       "      <td>SA234@citi.com</td>\n",
       "      <td>212-333-1234</td>\n",
       "      <td>CTSA000111132015</td>\n",
       "      <td>131.75</td>\n",
       "      <td>1000</td>\n",
       "      <td>B</td>\n",
       "      <td>Limit</td>\n",
       "      <td>IBM</td>\n",
       "      <td>125</td>\n",
       "      <td>0</td>\n",
       "      <td>N</td>\n",
       "      <td>Pending</td>\n",
       "      <td>CTSA000111132015</td>\n",
       "      <td>2345</td>\n",
       "    </tr>\n",
       "    <tr>\n",
       "      <th>3</th>\n",
       "      <td>C</td>\n",
       "      <td>312072001</td>\n",
       "      <td>Citigroup.</td>\n",
       "      <td>1234</td>\n",
       "      <td>ABC</td>\n",
       "      <td>Joe</td>\n",
       "      <td>JA123@gs.com</td>\n",
       "      <td>212-111-1234</td>\n",
       "      <td>GSJA000211122015</td>\n",
       "      <td>53.17</td>\n",
       "      <td>10000</td>\n",
       "      <td>B</td>\n",
       "      <td>Limit</td>\n",
       "      <td>C</td>\n",
       "      <td>126</td>\n",
       "      <td>4</td>\n",
       "      <td>P</td>\n",
       "      <td>Cancelled</td>\n",
       "      <td>GSJA000211122015</td>\n",
       "      <td>1234</td>\n",
       "    </tr>\n",
       "    <tr>\n",
       "      <th>4</th>\n",
       "      <td>IBM</td>\n",
       "      <td>459200101</td>\n",
       "      <td>International Business Machines Corporation.</td>\n",
       "      <td>1245</td>\n",
       "      <td>BCD</td>\n",
       "      <td>Andy</td>\n",
       "      <td>AB123@jp.com</td>\n",
       "      <td>212-222-1234</td>\n",
       "      <td>JPAB000211132015</td>\n",
       "      <td>131.7</td>\n",
       "      <td>2000</td>\n",
       "      <td>S</td>\n",
       "      <td>Limit</td>\n",
       "      <td>IBM</td>\n",
       "      <td>127</td>\n",
       "      <td>0</td>\n",
       "      <td>N</td>\n",
       "      <td>Pending</td>\n",
       "      <td>JPAB000211132015</td>\n",
       "      <td>1245</td>\n",
       "    </tr>\n",
       "    <tr>\n",
       "      <th>5</th>\n",
       "      <td>C</td>\n",
       "      <td>312072001</td>\n",
       "      <td>Citigroup.</td>\n",
       "      <td>2345</td>\n",
       "      <td>ABC</td>\n",
       "      <td>Smith</td>\n",
       "      <td>SA234@citi.com</td>\n",
       "      <td>212-333-1234</td>\n",
       "      <td>CTSA000211132015</td>\n",
       "      <td></td>\n",
       "      <td>200</td>\n",
       "      <td>B</td>\n",
       "      <td>Market</td>\n",
       "      <td>C</td>\n",
       "      <td>128</td>\n",
       "      <td>8</td>\n",
       "      <td>N</td>\n",
       "      <td>Filled</td>\n",
       "      <td>CTSA000211132015</td>\n",
       "      <td>2345</td>\n",
       "    </tr>\n",
       "  </tbody>\n",
       "</table>\n",
       "</div>"
      ],
      "text/plain": [
       "     0          1                                             2     3    4   \\\n",
       "0  GOOG  38259P508                                 Alphabet Inc.  1234  ABC   \n",
       "1  GOOG  38259P508                                 Alphabet Inc.  1245  BCD   \n",
       "2   IBM  459200101  International Business Machines Corporation.  2345  ABC   \n",
       "3     C  312072001                                    Citigroup.  1234  ABC   \n",
       "4   IBM  459200101  International Business Machines Corporation.  1245  BCD   \n",
       "5     C  312072001                                    Citigroup.  2345  ABC   \n",
       "\n",
       "      5               6             7                 8       9      10 11  \\\n",
       "0    Joe    JA123@gs.com  212-111-1234  GSJA000111122015  717.01    200  B   \n",
       "1   Andy    AB123@jp.com  212-222-1234  JPAB000111132015            125  S   \n",
       "2  Smith  SA234@citi.com  212-333-1234  CTSA000111132015  131.75   1000  B   \n",
       "3    Joe    JA123@gs.com  212-111-1234  GSJA000211122015   53.17  10000  B   \n",
       "4   Andy    AB123@jp.com  212-222-1234  JPAB000211132015   131.7   2000  S   \n",
       "5  Smith  SA234@citi.com  212-333-1234  CTSA000211132015            200  B   \n",
       "\n",
       "       12    13   14 15 16              17                18    19  \n",
       "0   Limit  GOOG  123  6  P  Partial Filled  GSJA000111122015  1234  \n",
       "1  Market  GOOG  124  8  P          Filled  JPAB000111132015  1245  \n",
       "2   Limit   IBM  125  0  N         Pending  CTSA000111132015  2345  \n",
       "3   Limit     C  126  4  P       Cancelled  GSJA000211122015  1234  \n",
       "4   Limit   IBM  127  0  N         Pending  JPAB000211132015  1245  \n",
       "5  Market     C  128  8  N          Filled  CTSA000211132015  2345  "
      ]
     },
     "execution_count": 26,
     "metadata": {},
     "output_type": "execute_result"
    }
   ],
   "source": [
    "pd.DataFrame(result)"
   ]
  },
  {
   "cell_type": "code",
   "execution_count": null,
   "metadata": {},
   "outputs": [],
   "source": []
  }
 ],
 "metadata": {
  "kernelspec": {
   "display_name": "Python 3",
   "language": "python",
   "name": "python3"
  },
  "language_info": {
   "codemirror_mode": {
    "name": "ipython",
    "version": 3
   },
   "file_extension": ".py",
   "mimetype": "text/x-python",
   "name": "python",
   "nbconvert_exporter": "python",
   "pygments_lexer": "ipython3",
   "version": "3.6.8"
  },
  "toc": {
   "base_numbering": 1,
   "nav_menu": {},
   "number_sections": true,
   "sideBar": true,
   "skip_h1_title": false,
   "title_cell": "Table of Contents",
   "title_sidebar": "Contents",
   "toc_cell": false,
   "toc_position": {},
   "toc_section_display": true,
   "toc_window_display": false
  }
 },
 "nbformat": 4,
 "nbformat_minor": 2
}
