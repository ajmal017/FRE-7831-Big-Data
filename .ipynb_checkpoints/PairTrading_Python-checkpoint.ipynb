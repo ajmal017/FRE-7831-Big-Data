{
 "cells": [
  {
   "cell_type": "code",
   "execution_count": 200,
   "metadata": {},
   "outputs": [],
   "source": [
    "# -*- coding: utf-8 -*\n",
    "#!/usr/bin/env python3\n",
    "\n",
    "import json\n",
    "import datetime as dt\n",
    "import urllib.request\n",
    "import pandas as pd\n",
    "import numpy as np\n",
    "\n",
    "from sqlalchemy import Column, Integer, Float, String\n",
    "from sqlalchemy import create_engine\n",
    "from sqlalchemy import MetaData\n",
    "from sqlalchemy import Table\n",
    "from sqlalchemy import inspect"
   ]
  },
  {
   "cell_type": "code",
   "execution_count": 201,
   "metadata": {},
   "outputs": [],
   "source": [
    "requestURL = \"https://eodhistoricaldata.com/api/eod/\"\n",
    "myEodKey = \"5ba84ea974ab42.45160048\"\n",
    "\n",
    "startDate = dt.datetime(2018,1,1)\n",
    "endDate = dt.datetime(2019,1,31)\n",
    "\n",
    "backtest_start = dt.datetime(2018,12,31)\n",
    "backtest_end = dt.datetime(2019,1,31)"
   ]
  },
  {
   "cell_type": "code",
   "execution_count": 202,
   "metadata": {},
   "outputs": [],
   "source": [
    "def get_daily_data(symbol, start=startDate, end=endDate, requestType=requestURL, apiKey=myEodKey):\n",
    "    symbolURL = str(symbol) + \".US?\"\n",
    "    startURL = \"from=\" + str(start)\n",
    "    endURL = \"to=\" + str(end)\n",
    "    apiKeyURL = \"api_token=\" + myEodKey\n",
    "    completeURL = requestURL + symbolURL + startURL + '&' + endURL + '&' + apiKeyURL + '&period=d&fmt=json'\n",
    "#     print(completeURL)\n",
    "    with urllib.request.urlopen(completeURL) as req:\n",
    "        data = json.load(req)\n",
    "        return data\n",
    "    \n",
    "def create_pair_table(name, metadata, engine):\n",
    "\ttables = metadata.tables.keys()\n",
    "\tif name not in tables:\n",
    "\t\ttable = Table(name, metadata, \n",
    "\t\t\t\t\tColumn('symbol', String(50), primary_key=True, nullable=False),\n",
    "\t\t\t\t\tColumn('date', String(50), primary_key=True, nullable=False),\n",
    "\t\t\t\t\tColumn('open', Float, nullable=False),\n",
    "\t\t\t\t\tColumn('high', Float, nullable=False),\n",
    "\t\t\t\t\tColumn('low', Float, nullable=False),\n",
    "\t\t\t\t\tColumn('close', Float, nullable=False),\n",
    "                       Column('adjusted_close', Float, nullable=False),\n",
    "\t\t\t\t\tColumn('volume', Integer, nullable=False))\n",
    "\t\ttable.create(engine)\n",
    "\n",
    "def clear_a_table(table_name, metadata, engine):\n",
    "    conn = engine.connect()\n",
    "    table = metadata.tables[table_name]\n",
    "    delete_st = table.delete()\n",
    "    conn.execute(delete_st)\n",
    "\n",
    "def execute_sql_statement(sql_st, engine):\n",
    "    result = engine.execute(sql_st)\n",
    "    return result"
   ]
  },
  {
   "cell_type": "code",
   "execution_count": 203,
   "metadata": {},
   "outputs": [],
   "source": [
    "def populate_stock_data(tickers, metadata, engine, table_name):\n",
    "    conn = engine.connect()\n",
    "    table = metadata.tables[table_name]\n",
    "    for ticker in tickers:\n",
    "        stock = get_daily_data(ticker)\n",
    "#         print(stock)\n",
    "        for stock_data in stock:\n",
    "            #print(k, v)\n",
    "            trading_date = stock_data['date']\n",
    "            trading_open = stock_data['open']\n",
    "            trading_high = stock_data['high']\n",
    "            trading_low = stock_data['low']\n",
    "            trading_close = stock_data['close']\n",
    "            trading_adjusted_close = stock_data['adjusted_close']\n",
    "            trading_volume = stock_data['volume']\n",
    "            insert_st = table.insert().values(symbol=ticker, date=trading_date,\n",
    "\t\t\t\t\topen = trading_open, high = trading_high, low = trading_low,\n",
    "\t\t\t\t\tclose = trading_close, adjusted_close = trading_adjusted_close, \n",
    "                       volume = trading_volume)\n",
    "            conn.execute(insert_st)"
   ]
  },
  {
   "cell_type": "code",
   "execution_count": 204,
   "metadata": {},
   "outputs": [],
   "source": [
    "# def populate_stock_data(ticker, metadata, engine, table_name):\n",
    "#     conn = engine.connect()\n",
    "#     table = metadata.tables[table_name]\n",
    "\n",
    "#     stock = get_daily_data(ticker)\n",
    "#     for stock_data in stock:\n",
    "#         trading_date = stock_data['date']\n",
    "#         trading_open = stock_data['open']\n",
    "#         trading_high = stock_data['high']\n",
    "#         trading_low = stock_data['low']\n",
    "#         trading_close = stock_data['close']\n",
    "#         trading_adjusted_close = stock_data['adjusted_close']\n",
    "#         trading_volume = stock_data['volume']\n",
    "#         insert_st = table.insert().values(symbol=ticker, date=trading_date,\n",
    "# \t\t\t\topen = trading_open, high = trading_high, low = trading_low,\n",
    "# \t\t\t\tclose = trading_close, adjusted_close = trading_adjusted_close, \n",
    "#                    volume = trading_volume)\n",
    "#         conn.execute(insert_st)"
   ]
  },
  {
   "cell_type": "code",
   "execution_count": 205,
   "metadata": {},
   "outputs": [],
   "source": [
    "def create_pairs_table(name, metadata, engine):\n",
    "    tables = metadata.tables.keys()\n",
    "    if name not in tables:\n",
    "        table = Table(name, metadata, \n",
    "                        Column('ticker1', String(50), primary_key=True, nullable=False),\n",
    "                        Column('ticker2', String(50), primary_key=True, nullable=False),\n",
    "                        Column('volatility', Float, nullable=False),\n",
    "                        Column('profit_loss', Float, nullable=False))\n",
    "\n",
    "        table.create(engine)"
   ]
  },
  {
   "cell_type": "code",
   "execution_count": 206,
   "metadata": {},
   "outputs": [],
   "source": [
    "def create_pairprices_table(name, metadata, engine):\n",
    "    tables = metadata.tables.keys()\n",
    "    if name not in tables:\n",
    "        table = Table(name, metadata, \n",
    "\t\t\t\t\tColumn('ticker1', String(50), primary_key=True, nullable=False),\n",
    "\t\t\t\t\tColumn('ticker2', String(50), primary_key=True, nullable=False),\n",
    "\t\t\t\t\tColumn('date', String(50), primary_key=True, nullable=False),\n",
    "\t\t\t\t\tColumn('open1', Float, nullable=False),\n",
    "\t\t\t\t\tColumn('close1', Float, nullable=False),\n",
    "\t\t\t\t\tColumn('open2', Float, nullable=False),\n",
    "\t\t\t\t\tColumn('close2', Float, nullable=False))\n",
    "        \n",
    "        table.create(engine)"
   ]
  },
  {
   "cell_type": "code",
   "execution_count": 207,
   "metadata": {},
   "outputs": [],
   "source": [
    "def create_trades_table(name, metadata, engine):\n",
    "    tables = metadata.tables.keys()\n",
    "    if name not in tables:\n",
    "        table = Table(name, metadata, \n",
    "\t\t\t\t\tColumn('ticker1', String(50), primary_key=True, nullable=False),\n",
    "\t\t\t\t\tColumn('ticker2', String(50), primary_key=True, nullable=False),\n",
    "\t\t\t\t\tColumn('date', String(50), primary_key=True, nullable=False),\n",
    "\t\t\t\t\tColumn('profit_loss', Float, nullable=False))\n",
    "        \n",
    "        table.create(engine)"
   ]
  },
  {
   "cell_type": "code",
   "execution_count": 255,
   "metadata": {},
   "outputs": [],
   "source": [
    "def populate_pairprices_table(tickers, metadata, engine):\n",
    "    conn = engine.connect()\n",
    "    table = metadata.tables['PairPrices']\n",
    "    \n",
    "    s = backtest_start.strftime('%Y-%m-%d')\n",
    "    e = backtest_end.strftime('%Y-%m-%d')\n",
    "    \n",
    "    sql_st = '''\n",
    "SELECT Pair1Stocks.symbol, Pair2Stocks.symbol, Pair1Stocks.date, Pair1Stocks.open, Pair1Stocks.close, Pair2Stocks.open, Pair2Stocks.close \n",
    "FROM Pair1Stocks, Pair2Stocks \n",
    "WHERE ((Pair1Stocks.date >= \\'{}\\') AND (Pair1Stocks.date <= \\'{}\\') AND (Pair1Stocks.date = Pair2Stocks.date) AND (Pair1Stocks.symbol = \\'{}\\') AND (Pair2Stocks.symbol = \\'{}\\'))\n",
    "''' .format(s, e, tickers[0], tickers[1])\n",
    "    \n",
    "    result = execute_sql_statement(sql_st, engine)\n",
    "    \n",
    "    for r in result:\n",
    "        insert_st = table.insert().values(ticker1=r[0], ticker2=r[1], date=r[2],\n",
    "\t\t\t\t\topen1 = r[3], close1 = r[4],\n",
    "\t\t\t\t\topen2 = r[5], close2 = r[6])\n",
    "    \n",
    "        conn.execute(insert_st)"
   ]
  },
  {
   "cell_type": "code",
   "execution_count": 209,
   "metadata": {},
   "outputs": [],
   "source": [
    "def populate_trades_table(tickers, metadata, engine):\n",
    "    conn = engine.connect()\n",
    "    table = metadata.tables['Trades']\n",
    "    \n",
    "    for i in range(len(PairPrices)):\n",
    "        \n",
    "        trading_date = PairPrices.loc[i, 'date']\n",
    "        pnl = PairPrices.loc[i, 'PnL']\n",
    "        \n",
    "        insert_st = table.insert().values(ticker1=tickers[0], ticker2=tickers[1], date=trading_date,\n",
    "\t\t\t\t\tprofit_loss = pnl)\n",
    "    \n",
    "        conn.execute(insert_st)"
   ]
  },
  {
   "cell_type": "code",
   "execution_count": 210,
   "metadata": {},
   "outputs": [],
   "source": [
    "def populate_pairs_table(tickers, metadata, engine):\n",
    "    conn = engine.connect()\n",
    "    table = metadata.tables['Pairs']\n",
    "                    \n",
    "    insert_st = table.insert().values(ticker1=tickers[0], ticker2=tickers[1], volatility=vol,\n",
    "\t\t\t\tprofit_loss = total_PnL)\n",
    "    \n",
    "    conn.execute(insert_st)"
   ]
  },
  {
   "cell_type": "code",
   "execution_count": 211,
   "metadata": {},
   "outputs": [],
   "source": [
    "k = 1"
   ]
  },
  {
   "cell_type": "code",
   "execution_count": 212,
   "metadata": {},
   "outputs": [],
   "source": [
    "tickers = ['AAPL', 'HPQ']"
   ]
  },
  {
   "cell_type": "code",
   "execution_count": 213,
   "metadata": {},
   "outputs": [],
   "source": [
    "ticker_pairs = pd.read_csv('PairTrading.csv')"
   ]
  },
  {
   "cell_type": "code",
   "execution_count": 214,
   "metadata": {},
   "outputs": [],
   "source": [
    "for t1, t2 in zip(ticker_pairs['Ticker1'], ticker_pairs['Ticker2']):\n",
    "    tickers = [t1, t2]"
   ]
  },
  {
   "cell_type": "code",
   "execution_count": 215,
   "metadata": {},
   "outputs": [
    {
     "data": {
      "text/plain": [
       "['UGA', 'USO']"
      ]
     },
     "execution_count": 215,
     "metadata": {},
     "output_type": "execute_result"
    }
   ],
   "source": [
    "tickers"
   ]
  },
  {
   "cell_type": "code",
   "execution_count": 216,
   "metadata": {
    "scrolled": true
   },
   "outputs": [],
   "source": [
    "def build_pair_trading_model():\n",
    "    # ............\n",
    "\t# ............\n",
    "  \n",
    "    return 0"
   ]
  },
  {
   "cell_type": "code",
   "execution_count": 217,
   "metadata": {},
   "outputs": [],
   "source": [
    "engine = create_engine('sqlite:///:memory:')\n",
    "metadata = MetaData(engine)"
   ]
  },
  {
   "cell_type": "code",
   "execution_count": 218,
   "metadata": {},
   "outputs": [],
   "source": [
    "create_pair_table('Pair1Stocks', metadata, engine)\n",
    "create_pair_table('Pair2Stocks', metadata, engine)\n",
    "create_pairs_table('Pairs', metadata, engine)\n",
    "create_pairprices_table('PairPrices', metadata, engine)\n",
    "create_trades_table('Trades', metadata, engine)"
   ]
  },
  {
   "cell_type": "code",
   "execution_count": 219,
   "metadata": {
    "scrolled": false
   },
   "outputs": [
    {
     "data": {
      "text/plain": [
       "dict_keys(['Pair1Stocks', 'Pair2Stocks', 'Pairs', 'PairPrices', 'Trades'])"
      ]
     },
     "execution_count": 219,
     "metadata": {},
     "output_type": "execute_result"
    }
   ],
   "source": [
    "metadata.tables.keys()"
   ]
  },
  {
   "cell_type": "code",
   "execution_count": 220,
   "metadata": {},
   "outputs": [],
   "source": [
    "pair1_list = list(set(ticker_pairs['Ticker1']))\n",
    "pair2_list = list(set(ticker_pairs['Ticker2']))"
   ]
  },
  {
   "cell_type": "code",
   "execution_count": 221,
   "metadata": {},
   "outputs": [],
   "source": [
    "populate_stock_data(pair1_list, metadata, engine, 'Pair1Stocks')"
   ]
  },
  {
   "cell_type": "code",
   "execution_count": 222,
   "metadata": {},
   "outputs": [],
   "source": [
    "populate_stock_data(pair2_list, metadata, engine, 'Pair2Stocks')"
   ]
  },
  {
   "cell_type": "code",
   "execution_count": 224,
   "metadata": {},
   "outputs": [],
   "source": [
    "sql_st = 'SELECT * FROM Pair1Stocks WHERE symbol=\\'AAPL\\' '\n",
    "result = execute_sql_statement(sql_st, engine)"
   ]
  },
  {
   "cell_type": "code",
   "execution_count": 226,
   "metadata": {},
   "outputs": [
    {
     "data": {
      "text/plain": [
       "['UGA', 'USO']"
      ]
     },
     "execution_count": 226,
     "metadata": {},
     "output_type": "execute_result"
    }
   ],
   "source": [
    "tickers"
   ]
  },
  {
   "cell_type": "code",
   "execution_count": 227,
   "metadata": {},
   "outputs": [],
   "source": [
    "# build model"
   ]
  },
  {
   "cell_type": "code",
   "execution_count": 249,
   "metadata": {},
   "outputs": [
    {
     "data": {
      "text/plain": [
       "0.4139744663622525"
      ]
     },
     "execution_count": 249,
     "metadata": {},
     "output_type": "execute_result"
    }
   ],
   "source": [
    "sql_st = '''\n",
    "SELECT Pair1Stocks.adjusted_close, Pair2Stocks.adjusted_close \n",
    "FROM Pair1Stocks, Pair2Stocks \n",
    "WHERE ((Pair1Stocks.symbol = \\'{}\\') AND (Pair2Stocks.symbol = \\'{}\\'))\n",
    "'''.format(tickers[0], tickers[1])\n",
    "result = execute_sql_statement(sql_st, engine)\n",
    "adj_close = np.array(result.fetchall())\n",
    "pr = adj_close[:,0] / adj_close[:,1]\n",
    "vol = np.std(pr)\n",
    "vol"
   ]
  },
  {
   "cell_type": "code",
   "execution_count": 256,
   "metadata": {},
   "outputs": [],
   "source": [
    "populate_pairprices_table(metadata, engine)"
   ]
  },
  {
   "cell_type": "code",
   "execution_count": 262,
   "metadata": {},
   "outputs": [],
   "source": [
    "sql_st = '''\n",
    "SELECT * FROM PairPrices\n",
    "WHERE ((ticker1 = \\'{}\\') AND (ticker2 = \\'{}\\'))\n",
    "'''.format(tickers[0], tickers[1])\n",
    "result = execute_sql_statement(sql_st, engine)"
   ]
  },
  {
   "cell_type": "code",
   "execution_count": 263,
   "metadata": {},
   "outputs": [],
   "source": [
    "PairPrices = pd.DataFrame(result.fetchall(), columns=['ticker1', 'ticker2', 'date', 'open1', 'close1', 'open2', 'close2'])"
   ]
  },
  {
   "cell_type": "code",
   "execution_count": 267,
   "metadata": {},
   "outputs": [
    {
     "data": {
      "text/html": [
       "<div>\n",
       "<style scoped>\n",
       "    .dataframe tbody tr th:only-of-type {\n",
       "        vertical-align: middle;\n",
       "    }\n",
       "\n",
       "    .dataframe tbody tr th {\n",
       "        vertical-align: top;\n",
       "    }\n",
       "\n",
       "    .dataframe thead th {\n",
       "        text-align: right;\n",
       "    }\n",
       "</style>\n",
       "<table border=\"1\" class=\"dataframe\">\n",
       "  <thead>\n",
       "    <tr style=\"text-align: right;\">\n",
       "      <th></th>\n",
       "      <th>ticker1</th>\n",
       "      <th>ticker2</th>\n",
       "      <th>date</th>\n",
       "      <th>open1</th>\n",
       "      <th>close1</th>\n",
       "      <th>open2</th>\n",
       "      <th>close2</th>\n",
       "    </tr>\n",
       "  </thead>\n",
       "  <tbody>\n",
       "    <tr>\n",
       "      <th>0</th>\n",
       "      <td>UGA</td>\n",
       "      <td>USO</td>\n",
       "      <td>2018-12-31</td>\n",
       "      <td>22.83</td>\n",
       "      <td>22.91</td>\n",
       "      <td>9.63</td>\n",
       "      <td>9.66</td>\n",
       "    </tr>\n",
       "    <tr>\n",
       "      <th>1</th>\n",
       "      <td>UGA</td>\n",
       "      <td>USO</td>\n",
       "      <td>2019-01-02</td>\n",
       "      <td>22.45</td>\n",
       "      <td>23.21</td>\n",
       "      <td>9.42</td>\n",
       "      <td>9.85</td>\n",
       "    </tr>\n",
       "    <tr>\n",
       "      <th>2</th>\n",
       "      <td>UGA</td>\n",
       "      <td>USO</td>\n",
       "      <td>2019-01-03</td>\n",
       "      <td>23.75</td>\n",
       "      <td>23.57</td>\n",
       "      <td>9.99</td>\n",
       "      <td>9.95</td>\n",
       "    </tr>\n",
       "    <tr>\n",
       "      <th>3</th>\n",
       "      <td>UGA</td>\n",
       "      <td>USO</td>\n",
       "      <td>2019-01-04</td>\n",
       "      <td>24.00</td>\n",
       "      <td>23.70</td>\n",
       "      <td>10.17</td>\n",
       "      <td>10.18</td>\n",
       "    </tr>\n",
       "    <tr>\n",
       "      <th>4</th>\n",
       "      <td>UGA</td>\n",
       "      <td>USO</td>\n",
       "      <td>2019-01-07</td>\n",
       "      <td>23.89</td>\n",
       "      <td>23.58</td>\n",
       "      <td>10.27</td>\n",
       "      <td>10.29</td>\n",
       "    </tr>\n",
       "  </tbody>\n",
       "</table>\n",
       "</div>"
      ],
      "text/plain": [
       "  ticker1 ticker2        date  open1  close1  open2  close2\n",
       "0     UGA     USO  2018-12-31  22.83   22.91   9.63    9.66\n",
       "1     UGA     USO  2019-01-02  22.45   23.21   9.42    9.85\n",
       "2     UGA     USO  2019-01-03  23.75   23.57   9.99    9.95\n",
       "3     UGA     USO  2019-01-04  24.00   23.70  10.17   10.18\n",
       "4     UGA     USO  2019-01-07  23.89   23.58  10.27   10.29"
      ]
     },
     "execution_count": 267,
     "metadata": {},
     "output_type": "execute_result"
    }
   ],
   "source": [
    "PairPrices.head()"
   ]
  },
  {
   "cell_type": "code",
   "execution_count": 268,
   "metadata": {
    "scrolled": true
   },
   "outputs": [],
   "source": [
    "PnL = []\n",
    "\n",
    "for i in range(1, len(PairPrices)):\n",
    "    \n",
    "    diff = abs( PairPrices.loc[i-1, 'close1'] / PairPrices.loc[i-1, 'close2'] \\\n",
    "    - PairPrices.loc[i, 'open1'] / PairPrices.loc[i, 'open2'] )\n",
    "    \n",
    "    if diff >= k*vol:\n",
    "        # short the pair\n",
    "        N1 = 10000\n",
    "        N2 = (-N1) * ( PairPrices.loc[i, 'open1'] / PairPrices.loc[i, 'open2'] )\n",
    "        # close the trade and calculate PnL\n",
    "        r = N1 * ( PairPrices.loc[i, 'open1'] - PairPrices.loc[i, 'close1'] ) \\\n",
    "            + N2 * ( PairPrices.loc[i, 'open2'] - PairPrices.loc[i, 'close2'] )\n",
    "        \n",
    "    elif diff < k*vol:\n",
    "        # long the pair\n",
    "        N1 = -10000\n",
    "        N2 = (-N1) * ( PairPrices.loc[i, 'open1'] / PairPrices.loc[i, 'open2'] )\n",
    "        # close the trade and calculate PnL\n",
    "        r = N1 * ( PairPrices.loc[i, 'open1'] - PairPrices.loc[i, 'close1'] ) \\\n",
    "            + N2 * ( PairPrices.loc[i, 'open2'] - PairPrices.loc[i, 'close2'] )\n",
    "    \n",
    "    PnL.append(r)"
   ]
  },
  {
   "cell_type": "code",
   "execution_count": 269,
   "metadata": {},
   "outputs": [],
   "source": [
    "PnL.insert(0,0)"
   ]
  },
  {
   "cell_type": "code",
   "execution_count": 270,
   "metadata": {},
   "outputs": [],
   "source": [
    "PairPrices['PnL'] = PnL"
   ]
  },
  {
   "cell_type": "code",
   "execution_count": 271,
   "metadata": {
    "scrolled": true
   },
   "outputs": [
    {
     "data": {
      "text/html": [
       "<div>\n",
       "<style scoped>\n",
       "    .dataframe tbody tr th:only-of-type {\n",
       "        vertical-align: middle;\n",
       "    }\n",
       "\n",
       "    .dataframe tbody tr th {\n",
       "        vertical-align: top;\n",
       "    }\n",
       "\n",
       "    .dataframe thead th {\n",
       "        text-align: right;\n",
       "    }\n",
       "</style>\n",
       "<table border=\"1\" class=\"dataframe\">\n",
       "  <thead>\n",
       "    <tr style=\"text-align: right;\">\n",
       "      <th></th>\n",
       "      <th>ticker1</th>\n",
       "      <th>ticker2</th>\n",
       "      <th>date</th>\n",
       "      <th>open1</th>\n",
       "      <th>close1</th>\n",
       "      <th>open2</th>\n",
       "      <th>close2</th>\n",
       "      <th>PnL</th>\n",
       "    </tr>\n",
       "  </thead>\n",
       "  <tbody>\n",
       "    <tr>\n",
       "      <th>0</th>\n",
       "      <td>UGA</td>\n",
       "      <td>USO</td>\n",
       "      <td>2018-12-31</td>\n",
       "      <td>22.83</td>\n",
       "      <td>22.91</td>\n",
       "      <td>9.63</td>\n",
       "      <td>9.66</td>\n",
       "      <td>0.000000</td>\n",
       "    </tr>\n",
       "    <tr>\n",
       "      <th>1</th>\n",
       "      <td>UGA</td>\n",
       "      <td>USO</td>\n",
       "      <td>2019-01-02</td>\n",
       "      <td>22.45</td>\n",
       "      <td>23.21</td>\n",
       "      <td>9.42</td>\n",
       "      <td>9.85</td>\n",
       "      <td>-2647.876858</td>\n",
       "    </tr>\n",
       "    <tr>\n",
       "      <th>2</th>\n",
       "      <td>UGA</td>\n",
       "      <td>USO</td>\n",
       "      <td>2019-01-03</td>\n",
       "      <td>23.75</td>\n",
       "      <td>23.57</td>\n",
       "      <td>9.99</td>\n",
       "      <td>9.95</td>\n",
       "      <td>-849.049049</td>\n",
       "    </tr>\n",
       "    <tr>\n",
       "      <th>3</th>\n",
       "      <td>UGA</td>\n",
       "      <td>USO</td>\n",
       "      <td>2019-01-04</td>\n",
       "      <td>24.00</td>\n",
       "      <td>23.70</td>\n",
       "      <td>10.17</td>\n",
       "      <td>10.18</td>\n",
       "      <td>-3235.988201</td>\n",
       "    </tr>\n",
       "    <tr>\n",
       "      <th>4</th>\n",
       "      <td>UGA</td>\n",
       "      <td>USO</td>\n",
       "      <td>2019-01-07</td>\n",
       "      <td>23.89</td>\n",
       "      <td>23.58</td>\n",
       "      <td>10.27</td>\n",
       "      <td>10.29</td>\n",
       "      <td>-3565.238559</td>\n",
       "    </tr>\n",
       "  </tbody>\n",
       "</table>\n",
       "</div>"
      ],
      "text/plain": [
       "  ticker1 ticker2        date  open1  close1  open2  close2          PnL\n",
       "0     UGA     USO  2018-12-31  22.83   22.91   9.63    9.66     0.000000\n",
       "1     UGA     USO  2019-01-02  22.45   23.21   9.42    9.85 -2647.876858\n",
       "2     UGA     USO  2019-01-03  23.75   23.57   9.99    9.95  -849.049049\n",
       "3     UGA     USO  2019-01-04  24.00   23.70  10.17   10.18 -3235.988201\n",
       "4     UGA     USO  2019-01-07  23.89   23.58  10.27   10.29 -3565.238559"
      ]
     },
     "execution_count": 271,
     "metadata": {},
     "output_type": "execute_result"
    }
   ],
   "source": [
    "PairPrices.head()"
   ]
  },
  {
   "cell_type": "code",
   "execution_count": 79,
   "metadata": {},
   "outputs": [],
   "source": [
    "populate_trades_table(tickers, metadata, engine)"
   ]
  },
  {
   "cell_type": "code",
   "execution_count": 80,
   "metadata": {},
   "outputs": [],
   "source": [
    "sql_st = 'SELECT * FROM Trades'\n",
    "result = execute_sql_statement(sql_st, engine)"
   ]
  },
  {
   "cell_type": "code",
   "execution_count": 81,
   "metadata": {},
   "outputs": [
    {
     "data": {
      "text/html": [
       "<div>\n",
       "<style scoped>\n",
       "    .dataframe tbody tr th:only-of-type {\n",
       "        vertical-align: middle;\n",
       "    }\n",
       "\n",
       "    .dataframe tbody tr th {\n",
       "        vertical-align: top;\n",
       "    }\n",
       "\n",
       "    .dataframe thead th {\n",
       "        text-align: right;\n",
       "    }\n",
       "</style>\n",
       "<table border=\"1\" class=\"dataframe\">\n",
       "  <thead>\n",
       "    <tr style=\"text-align: right;\">\n",
       "      <th></th>\n",
       "      <th>ticker1</th>\n",
       "      <th>ticker2</th>\n",
       "      <th>date</th>\n",
       "      <th>PnL</th>\n",
       "    </tr>\n",
       "  </thead>\n",
       "  <tbody>\n",
       "    <tr>\n",
       "      <th>0</th>\n",
       "      <td>UGA</td>\n",
       "      <td>USO</td>\n",
       "      <td>2018-12-31</td>\n",
       "      <td>0.000000</td>\n",
       "    </tr>\n",
       "    <tr>\n",
       "      <th>1</th>\n",
       "      <td>UGA</td>\n",
       "      <td>USO</td>\n",
       "      <td>2019-01-02</td>\n",
       "      <td>-2647.876858</td>\n",
       "    </tr>\n",
       "    <tr>\n",
       "      <th>2</th>\n",
       "      <td>UGA</td>\n",
       "      <td>USO</td>\n",
       "      <td>2019-01-03</td>\n",
       "      <td>-849.049049</td>\n",
       "    </tr>\n",
       "    <tr>\n",
       "      <th>3</th>\n",
       "      <td>UGA</td>\n",
       "      <td>USO</td>\n",
       "      <td>2019-01-04</td>\n",
       "      <td>-3235.988201</td>\n",
       "    </tr>\n",
       "    <tr>\n",
       "      <th>4</th>\n",
       "      <td>UGA</td>\n",
       "      <td>USO</td>\n",
       "      <td>2019-01-07</td>\n",
       "      <td>-3565.238559</td>\n",
       "    </tr>\n",
       "  </tbody>\n",
       "</table>\n",
       "</div>"
      ],
      "text/plain": [
       "  ticker1 ticker2        date          PnL\n",
       "0     UGA     USO  2018-12-31     0.000000\n",
       "1     UGA     USO  2019-01-02 -2647.876858\n",
       "2     UGA     USO  2019-01-03  -849.049049\n",
       "3     UGA     USO  2019-01-04 -3235.988201\n",
       "4     UGA     USO  2019-01-07 -3565.238559"
      ]
     },
     "execution_count": 81,
     "metadata": {},
     "output_type": "execute_result"
    }
   ],
   "source": [
    "Trades = pd.DataFrame(result.fetchall(), columns=['ticker1', 'ticker2', 'date', 'PnL'])\n",
    "Trades.head()"
   ]
  },
  {
   "cell_type": "code",
   "execution_count": 82,
   "metadata": {},
   "outputs": [
    {
     "data": {
      "text/plain": [
       "-29074.038775780107"
      ]
     },
     "execution_count": 82,
     "metadata": {},
     "output_type": "execute_result"
    }
   ],
   "source": [
    "total_PnL = Trades['PnL'].sum()\n",
    "total_PnL"
   ]
  },
  {
   "cell_type": "code",
   "execution_count": 83,
   "metadata": {},
   "outputs": [],
   "source": [
    "populate_pairs(tickers, metadata, engine)"
   ]
  },
  {
   "cell_type": "code",
   "execution_count": 84,
   "metadata": {},
   "outputs": [],
   "source": [
    "sql_st = 'SELECT * FROM Pairs'\n",
    "result = execute_sql_statement(sql_st, engine)"
   ]
  },
  {
   "cell_type": "code",
   "execution_count": 85,
   "metadata": {},
   "outputs": [
    {
     "data": {
      "text/plain": [
       "[('UGA', 'USO', 0.11503871638123819, -29074.038775780107)]"
      ]
     },
     "execution_count": 85,
     "metadata": {},
     "output_type": "execute_result"
    }
   ],
   "source": [
    "result.fetchall()"
   ]
  },
  {
   "cell_type": "code",
   "execution_count": null,
   "metadata": {},
   "outputs": [],
   "source": [
    "def backtesting()"
   ]
  },
  {
   "cell_type": "code",
   "execution_count": null,
   "metadata": {},
   "outputs": [],
   "source": []
  },
  {
   "cell_type": "code",
   "execution_count": null,
   "metadata": {},
   "outputs": [],
   "source": [
    "    "
   ]
  },
  {
   "cell_type": "code",
   "execution_count": 61,
   "metadata": {},
   "outputs": [],
   "source": [
    "# main function\n",
    "\n",
    "ticker_pairs = pd.read_csv('PairTrading.csv')\n",
    "\n",
    "for t1, t2 in zip(ticker_pairs['Ticker1'], ticker_pairs['Ticker2']):\n",
    "    tickers = [t1, t2]\n",
    "    \n",
    "    build_pair_trading_model()\n",
    "    backtesting()"
   ]
  },
  {
   "cell_type": "code",
   "execution_count": 62,
   "metadata": {},
   "outputs": [],
   "source": []
  }
 ],
 "metadata": {
  "kernelspec": {
   "display_name": "Python 3",
   "language": "python",
   "name": "python3"
  },
  "language_info": {
   "codemirror_mode": {
    "name": "ipython",
    "version": 3
   },
   "file_extension": ".py",
   "mimetype": "text/x-python",
   "name": "python",
   "nbconvert_exporter": "python",
   "pygments_lexer": "ipython3",
   "version": "3.6.8"
  },
  "toc": {
   "base_numbering": 1,
   "nav_menu": {},
   "number_sections": true,
   "sideBar": true,
   "skip_h1_title": false,
   "title_cell": "Table of Contents",
   "title_sidebar": "Contents",
   "toc_cell": false,
   "toc_position": {},
   "toc_section_display": true,
   "toc_window_display": false
  }
 },
 "nbformat": 4,
 "nbformat_minor": 2
}
