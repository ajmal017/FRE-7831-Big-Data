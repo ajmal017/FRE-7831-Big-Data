{
 "cells": [
  {
   "cell_type": "code",
   "execution_count": 1163,
   "metadata": {},
   "outputs": [],
   "source": [
    "# -*- coding: utf-8 -*\n",
    "#!/usr/bin/env python3\n",
    "\n",
    "import json\n",
    "import datetime as dt\n",
    "import urllib.request\n",
    "import pandas as pd\n",
    "import numpy as np\n",
    "\n",
    "from sqlalchemy import Column, Integer, Float, String\n",
    "from sqlalchemy import create_engine\n",
    "from sqlalchemy import MetaData\n",
    "from sqlalchemy import Table\n",
    "from sqlalchemy import inspect\n",
    "\n",
    "requestURL = \"https://eodhistoricaldata.com/api/eod/\"\n",
    "myEodKey = \"5ba84ea974ab42.45160048\"\n",
    "\n",
    "startDate = dt.datetime(2018,1,1)\n",
    "endDate = dt.datetime(2019,1,31)\n",
    "\n",
    "backtest_start = dt.datetime(2018,12,31)\n",
    "backtest_end = dt.datetime(2019,1,31)\n",
    "\n",
    "\n",
    "def get_daily_data(symbol, start=startDate, end=endDate, requestType=requestURL, apiKey=myEodKey):\n",
    "    symbolURL = str(symbol) + \".US?\"\n",
    "    startURL = \"from=\" + str(start)\n",
    "    endURL = \"to=\" + str(end)\n",
    "    apiKeyURL = \"api_token=\" + myEodKey\n",
    "    completeURL = requestURL + symbolURL + startURL + '&' + endURL + '&' + apiKeyURL + '&period=d&fmt=json'\n",
    "#     print(completeURL)\n",
    "    with urllib.request.urlopen(completeURL) as req:\n",
    "        data = json.load(req)\n",
    "        return data\n",
    "    \n",
    "def create_pair_table(name, metadata, engine):\n",
    "\ttables = metadata.tables.keys()\n",
    "\tif name not in tables:\n",
    "\t\ttable = Table(name, metadata, \n",
    "\t\t\t\t\tColumn('symbol', String(50), primary_key=True, nullable=False),\n",
    "\t\t\t\t\tColumn('date', String(50), primary_key=True, nullable=False),\n",
    "\t\t\t\t\tColumn('open', Float, nullable=False),\n",
    "\t\t\t\t\tColumn('high', Float, nullable=False),\n",
    "\t\t\t\t\tColumn('low', Float, nullable=False),\n",
    "\t\t\t\t\tColumn('close', Float, nullable=False),\n",
    "                       Column('adjusted_close', Float, nullable=False),\n",
    "\t\t\t\t\tColumn('volume', Integer, nullable=False))\n",
    "\t\ttable.create(engine)\n",
    "\n",
    "def clear_a_table(table_name, metadata, engine):\n",
    "    conn = engine.connect()\n",
    "    table = metadata.tables[table_name]\n",
    "    delete_st = table.delete()\n",
    "    conn.execute(delete_st)\n",
    "\n",
    "# def populate_stock_data(tickers, metadata, engine, table_name):\n",
    "#     conn = engine.connect()\n",
    "#     table = metadata.tables[table_name]\n",
    "#     for ticker in tickers:\n",
    "#         stock = get_daily_data(ticker)\n",
    "# #         print(stock)\n",
    "#         for stock_data in stock:\n",
    "#             #print(k, v)\n",
    "#             trading_date = stock_data['date']\n",
    "#             trading_open = stock_data['open']\n",
    "#             trading_high = stock_data['high']\n",
    "#             trading_low = stock_data['low']\n",
    "#             trading_close = stock_data['close']\n",
    "#             trading_adjusted_close = stock_data['adjusted_close']\n",
    "#             trading_volume = stock_data['volume']\n",
    "#             insert_st = table.insert().values(symbol=ticker, date=trading_date,\n",
    "# \t\t\t\t\topen = trading_open, high = trading_high, low = trading_low,\n",
    "# \t\t\t\t\tclose = trading_close, adjusted_close = trading_adjusted_close, \n",
    "#                        volume = trading_volume)\n",
    "#             conn.execute(insert_st)\n",
    "\n",
    "def execute_sql_statement(sql_st, engine):\n",
    "    result = engine.execute(sql_st)\n",
    "    return result"
   ]
  },
  {
   "cell_type": "code",
   "execution_count": 1164,
   "metadata": {},
   "outputs": [],
   "source": [
    "def populate_stock_data(ticker, metadata, engine, table_name):\n",
    "    conn = engine.connect()\n",
    "    table = metadata.tables[table_name]\n",
    "\n",
    "    stock = get_daily_data(ticker)\n",
    "    for stock_data in stock:\n",
    "        trading_date = stock_data['date']\n",
    "        trading_open = stock_data['open']\n",
    "        trading_high = stock_data['high']\n",
    "        trading_low = stock_data['low']\n",
    "        trading_close = stock_data['close']\n",
    "        trading_adjusted_close = stock_data['adjusted_close']\n",
    "        trading_volume = stock_data['volume']\n",
    "        insert_st = table.insert().values(symbol=ticker, date=trading_date,\n",
    "\t\t\t\topen = trading_open, high = trading_high, low = trading_low,\n",
    "\t\t\t\tclose = trading_close, adjusted_close = trading_adjusted_close, \n",
    "                   volume = trading_volume)\n",
    "        conn.execute(insert_st)"
   ]
  },
  {
   "cell_type": "code",
   "execution_count": 1165,
   "metadata": {
    "scrolled": true
   },
   "outputs": [],
   "source": [
    "def build_pair_trading_model():\n",
    "    # ............\n",
    "\t# ............\n",
    "  \n",
    "    return 0"
   ]
  },
  {
   "cell_type": "code",
   "execution_count": 1166,
   "metadata": {},
   "outputs": [],
   "source": [
    "def create_pairs_table(name, metadata, engine):\n",
    "    tables = metadata.tables.keys()\n",
    "    if name not in tables:\n",
    "        table = Table(name, metadata, \n",
    "                        Column('ticker1', String(50), primary_key=True, nullable=False),\n",
    "                        Column('ticker2', String(50), primary_key=True, nullable=False),\n",
    "                        Column('volatility', Float, nullable=False),\n",
    "                        Column('profit_loss', Float, nullable=False))\n",
    "\n",
    "        table.create(engine)"
   ]
  },
  {
   "cell_type": "code",
   "execution_count": 1167,
   "metadata": {},
   "outputs": [],
   "source": [
    "def create_pairprices_table(name, metadata, engine):\n",
    "    tables = metadata.tables.keys()\n",
    "    if name not in tables:\n",
    "        table = Table(name, metadata, \n",
    "\t\t\t\t\tColumn('ticker1', String(50), primary_key=True, nullable=False),\n",
    "\t\t\t\t\tColumn('ticker2', String(50), primary_key=True, nullable=False),\n",
    "\t\t\t\t\tColumn('date', String(50), primary_key=True, nullable=False),\n",
    "\t\t\t\t\tColumn('open1', Float, nullable=False),\n",
    "\t\t\t\t\tColumn('close1', Float, nullable=False),\n",
    "\t\t\t\t\tColumn('open2', Float, nullable=False),\n",
    "\t\t\t\t\tColumn('close2', Float, nullable=False))\n",
    "        \n",
    "        table.create(engine)"
   ]
  },
  {
   "cell_type": "code",
   "execution_count": 1168,
   "metadata": {},
   "outputs": [],
   "source": [
    "def create_trades_table(name, metadata, engine):\n",
    "    tables = metadata.tables.keys()\n",
    "    if name not in tables:\n",
    "        table = Table(name, metadata, \n",
    "\t\t\t\t\tColumn('ticker1', String(50), primary_key=True, nullable=False),\n",
    "\t\t\t\t\tColumn('ticker2', String(50), primary_key=True, nullable=False),\n",
    "\t\t\t\t\tColumn('date', String(50), primary_key=True, nullable=False),\n",
    "\t\t\t\t\tColumn('profit_loss', Float, nullable=False))\n",
    "        \n",
    "        table.create(engine)"
   ]
  },
  {
   "cell_type": "code",
   "execution_count": 1169,
   "metadata": {},
   "outputs": [],
   "source": [
    "engine = create_engine('sqlite:///:memory:')\n",
    "metadata = MetaData(engine)"
   ]
  },
  {
   "cell_type": "code",
   "execution_count": 1170,
   "metadata": {},
   "outputs": [],
   "source": [
    "create_pair_table('Pair1Stocks', metadata, engine)"
   ]
  },
  {
   "cell_type": "code",
   "execution_count": 1171,
   "metadata": {},
   "outputs": [],
   "source": [
    "create_pair_table('Pair2Stocks', metadata, engine)"
   ]
  },
  {
   "cell_type": "code",
   "execution_count": 1172,
   "metadata": {},
   "outputs": [],
   "source": [
    "create_pairs_table('Pairs', metadata, engine)"
   ]
  },
  {
   "cell_type": "code",
   "execution_count": 1173,
   "metadata": {},
   "outputs": [],
   "source": [
    "create_pairprices_table('PairPrices', metadata, engine)"
   ]
  },
  {
   "cell_type": "code",
   "execution_count": 1174,
   "metadata": {},
   "outputs": [],
   "source": [
    "create_trades_table('Trades', metadata, engine)"
   ]
  },
  {
   "cell_type": "code",
   "execution_count": 1175,
   "metadata": {
    "scrolled": false
   },
   "outputs": [
    {
     "data": {
      "text/plain": [
       "dict_keys(['Pair1Stocks', 'Pair2Stocks', 'Pairs', 'PairPrices', 'Trades'])"
      ]
     },
     "execution_count": 1175,
     "metadata": {},
     "output_type": "execute_result"
    }
   ],
   "source": [
    "metadata.tables.keys()"
   ]
  },
  {
   "cell_type": "code",
   "execution_count": 1176,
   "metadata": {},
   "outputs": [],
   "source": [
    "tickers = ['AAPL', 'HPQ']"
   ]
  },
  {
   "cell_type": "code",
   "execution_count": 1177,
   "metadata": {},
   "outputs": [],
   "source": [
    "populate_stock_data(tickers[0], metadata, engine, 'Pair1Stocks')"
   ]
  },
  {
   "cell_type": "code",
   "execution_count": 1178,
   "metadata": {
    "scrolled": true
   },
   "outputs": [],
   "source": [
    "populate_stock_data(tickers[1], metadata, engine, 'Pair2Stocks')"
   ]
  },
  {
   "cell_type": "code",
   "execution_count": 1179,
   "metadata": {},
   "outputs": [],
   "source": [
    "sql_st = 'SELECT * FROM Pair1Stocks'\n",
    "result = execute_sql_statement(sql_st, engine)"
   ]
  },
  {
   "cell_type": "code",
   "execution_count": 1180,
   "metadata": {},
   "outputs": [],
   "source": [
    "k = 1"
   ]
  },
  {
   "cell_type": "code",
   "execution_count": 1181,
   "metadata": {},
   "outputs": [],
   "source": [
    "sql_st = 'SELECT adjusted_close FROM Pair1Stocks'\n",
    "result1 = execute_sql_statement(sql_st, engine)\n",
    "sql_st = 'SELECT adjusted_close FROM Pair2Stocks'\n",
    "result2 = execute_sql_statement(sql_st, engine)"
   ]
  },
  {
   "cell_type": "code",
   "execution_count": 1182,
   "metadata": {},
   "outputs": [],
   "source": [
    "p1 = np.array(result1.fetchall())\n",
    "p2 = np.array(result2.fetchall())"
   ]
  },
  {
   "cell_type": "code",
   "execution_count": 1183,
   "metadata": {},
   "outputs": [
    {
     "data": {
      "text/plain": [
       "0.599085419217168"
      ]
     },
     "execution_count": 1183,
     "metadata": {},
     "output_type": "execute_result"
    }
   ],
   "source": [
    "vol = np.std(p1/p2)\n",
    "vol"
   ]
  },
  {
   "cell_type": "code",
   "execution_count": 1184,
   "metadata": {},
   "outputs": [],
   "source": [
    "sql_st = 'SELECT symbol, date, open, close FROM Pair1Stocks'"
   ]
  },
  {
   "cell_type": "code",
   "execution_count": 1185,
   "metadata": {},
   "outputs": [],
   "source": [
    "Prices1 = pd.read_sql(sql_st, engine)"
   ]
  },
  {
   "cell_type": "code",
   "execution_count": 1186,
   "metadata": {},
   "outputs": [],
   "source": [
    "sql_st = 'SELECT symbol, date, open, close FROM Pair2Stocks'"
   ]
  },
  {
   "cell_type": "code",
   "execution_count": 1187,
   "metadata": {
    "scrolled": true
   },
   "outputs": [],
   "source": [
    "Prices2 = pd.read_sql(sql_st, engine)"
   ]
  },
  {
   "cell_type": "code",
   "execution_count": 1188,
   "metadata": {
    "scrolled": true
   },
   "outputs": [
    {
     "data": {
      "text/plain": [
       "(272, 4)"
      ]
     },
     "execution_count": 1188,
     "metadata": {},
     "output_type": "execute_result"
    }
   ],
   "source": [
    "Prices1.shape"
   ]
  },
  {
   "cell_type": "code",
   "execution_count": 1189,
   "metadata": {
    "scrolled": false
   },
   "outputs": [
    {
     "data": {
      "text/html": [
       "<div>\n",
       "<style scoped>\n",
       "    .dataframe tbody tr th:only-of-type {\n",
       "        vertical-align: middle;\n",
       "    }\n",
       "\n",
       "    .dataframe tbody tr th {\n",
       "        vertical-align: top;\n",
       "    }\n",
       "\n",
       "    .dataframe thead th {\n",
       "        text-align: right;\n",
       "    }\n",
       "</style>\n",
       "<table border=\"1\" class=\"dataframe\">\n",
       "  <thead>\n",
       "    <tr style=\"text-align: right;\">\n",
       "      <th></th>\n",
       "      <th>symbol</th>\n",
       "      <th>date</th>\n",
       "      <th>open</th>\n",
       "      <th>close</th>\n",
       "    </tr>\n",
       "  </thead>\n",
       "  <tbody>\n",
       "    <tr>\n",
       "      <th>0</th>\n",
       "      <td>HPQ</td>\n",
       "      <td>2018-01-02</td>\n",
       "      <td>21.18</td>\n",
       "      <td>21.32</td>\n",
       "    </tr>\n",
       "    <tr>\n",
       "      <th>1</th>\n",
       "      <td>HPQ</td>\n",
       "      <td>2018-01-03</td>\n",
       "      <td>21.31</td>\n",
       "      <td>21.37</td>\n",
       "    </tr>\n",
       "    <tr>\n",
       "      <th>2</th>\n",
       "      <td>HPQ</td>\n",
       "      <td>2018-01-04</td>\n",
       "      <td>21.40</td>\n",
       "      <td>21.53</td>\n",
       "    </tr>\n",
       "    <tr>\n",
       "      <th>3</th>\n",
       "      <td>HPQ</td>\n",
       "      <td>2018-01-05</td>\n",
       "      <td>21.61</td>\n",
       "      <td>21.75</td>\n",
       "    </tr>\n",
       "    <tr>\n",
       "      <th>4</th>\n",
       "      <td>HPQ</td>\n",
       "      <td>2018-01-08</td>\n",
       "      <td>21.78</td>\n",
       "      <td>21.84</td>\n",
       "    </tr>\n",
       "  </tbody>\n",
       "</table>\n",
       "</div>"
      ],
      "text/plain": [
       "  symbol        date   open  close\n",
       "0    HPQ  2018-01-02  21.18  21.32\n",
       "1    HPQ  2018-01-03  21.31  21.37\n",
       "2    HPQ  2018-01-04  21.40  21.53\n",
       "3    HPQ  2018-01-05  21.61  21.75\n",
       "4    HPQ  2018-01-08  21.78  21.84"
      ]
     },
     "execution_count": 1189,
     "metadata": {},
     "output_type": "execute_result"
    }
   ],
   "source": [
    "Prices2.head()"
   ]
  },
  {
   "cell_type": "code",
   "execution_count": 1190,
   "metadata": {},
   "outputs": [],
   "source": [
    "def populate_pairprices(tickers, metadata, engine):\n",
    "    conn = engine.connect()\n",
    "    table = metadata.tables['PairPrices']\n",
    "    \n",
    "    s = backtest_start.strftime('%Y-%m-%d')\n",
    "    e = backtest_end.strftime('%Y-%m-%d')\n",
    "    \n",
    "    sql_st = '''\n",
    "SELECT Pair1Stocks.symbol, Pair2Stocks.symbol, Pair1Stocks.date, Pair1Stocks.open, Pair1Stocks.close, Pair2Stocks.open, Pair2Stocks.close \n",
    "FROM Pair1Stocks, Pair2Stocks \n",
    "WHERE ((Pair1Stocks.date >= \\'''' + s + \"\\' AND Pair1Stocks.date <= \\'\" + e + \"\\') AND (Pair1Stocks.date = Pair2Stocks.date))\"\n",
    "    \n",
    "    result = execute_sql_statement(sql_st, engine)\n",
    "    \n",
    "    for r in result:\n",
    "        insert_st = table.insert().values(ticker1=tickers[0], ticker2=tickers[1], date=r[2],\n",
    "\t\t\t\t\topen1 = r[3], close1 = r[4],\n",
    "\t\t\t\t\topen2 = r[5], close2 = r[6])\n",
    "    \n",
    "        conn.execute(insert_st)"
   ]
  },
  {
   "cell_type": "code",
   "execution_count": 1191,
   "metadata": {},
   "outputs": [],
   "source": [
    "tickers = ['AAPL', 'HPQ']"
   ]
  },
  {
   "cell_type": "code",
   "execution_count": 1192,
   "metadata": {},
   "outputs": [],
   "source": [
    "populate_pairprices(tickers, metadata, engine)"
   ]
  },
  {
   "cell_type": "code",
   "execution_count": 1193,
   "metadata": {},
   "outputs": [],
   "source": [
    "sql_st = 'SELECT * FROM PairPrices'\n",
    "result = execute_sql_statement(sql_st, engine)"
   ]
  },
  {
   "cell_type": "code",
   "execution_count": 1194,
   "metadata": {},
   "outputs": [],
   "source": [
    "PairPrices = pd.DataFrame(result.fetchall(), columns=['ticker1', 'ticker2', 'date', 'open1', 'close1', 'open2', 'close2'])"
   ]
  },
  {
   "cell_type": "code",
   "execution_count": 1195,
   "metadata": {},
   "outputs": [
    {
     "data": {
      "text/html": [
       "<div>\n",
       "<style scoped>\n",
       "    .dataframe tbody tr th:only-of-type {\n",
       "        vertical-align: middle;\n",
       "    }\n",
       "\n",
       "    .dataframe tbody tr th {\n",
       "        vertical-align: top;\n",
       "    }\n",
       "\n",
       "    .dataframe thead th {\n",
       "        text-align: right;\n",
       "    }\n",
       "</style>\n",
       "<table border=\"1\" class=\"dataframe\">\n",
       "  <thead>\n",
       "    <tr style=\"text-align: right;\">\n",
       "      <th></th>\n",
       "      <th>ticker1</th>\n",
       "      <th>ticker2</th>\n",
       "      <th>date</th>\n",
       "      <th>open1</th>\n",
       "      <th>close1</th>\n",
       "      <th>open2</th>\n",
       "      <th>close2</th>\n",
       "    </tr>\n",
       "  </thead>\n",
       "  <tbody>\n",
       "    <tr>\n",
       "      <th>0</th>\n",
       "      <td>AAPL</td>\n",
       "      <td>HPQ</td>\n",
       "      <td>2018-12-31</td>\n",
       "      <td>158.53</td>\n",
       "      <td>157.74</td>\n",
       "      <td>20.49</td>\n",
       "      <td>20.46</td>\n",
       "    </tr>\n",
       "    <tr>\n",
       "      <th>1</th>\n",
       "      <td>AAPL</td>\n",
       "      <td>HPQ</td>\n",
       "      <td>2019-01-02</td>\n",
       "      <td>154.89</td>\n",
       "      <td>157.92</td>\n",
       "      <td>20.03</td>\n",
       "      <td>20.63</td>\n",
       "    </tr>\n",
       "    <tr>\n",
       "      <th>2</th>\n",
       "      <td>AAPL</td>\n",
       "      <td>HPQ</td>\n",
       "      <td>2019-01-03</td>\n",
       "      <td>143.98</td>\n",
       "      <td>142.19</td>\n",
       "      <td>20.35</td>\n",
       "      <td>19.93</td>\n",
       "    </tr>\n",
       "    <tr>\n",
       "      <th>3</th>\n",
       "      <td>AAPL</td>\n",
       "      <td>HPQ</td>\n",
       "      <td>2019-01-04</td>\n",
       "      <td>144.53</td>\n",
       "      <td>148.26</td>\n",
       "      <td>20.38</td>\n",
       "      <td>20.72</td>\n",
       "    </tr>\n",
       "    <tr>\n",
       "      <th>4</th>\n",
       "      <td>AAPL</td>\n",
       "      <td>HPQ</td>\n",
       "      <td>2019-01-07</td>\n",
       "      <td>148.70</td>\n",
       "      <td>147.93</td>\n",
       "      <td>20.75</td>\n",
       "      <td>20.95</td>\n",
       "    </tr>\n",
       "  </tbody>\n",
       "</table>\n",
       "</div>"
      ],
      "text/plain": [
       "  ticker1 ticker2        date   open1  close1  open2  close2\n",
       "0    AAPL     HPQ  2018-12-31  158.53  157.74  20.49   20.46\n",
       "1    AAPL     HPQ  2019-01-02  154.89  157.92  20.03   20.63\n",
       "2    AAPL     HPQ  2019-01-03  143.98  142.19  20.35   19.93\n",
       "3    AAPL     HPQ  2019-01-04  144.53  148.26  20.38   20.72\n",
       "4    AAPL     HPQ  2019-01-07  148.70  147.93  20.75   20.95"
      ]
     },
     "execution_count": 1195,
     "metadata": {},
     "output_type": "execute_result"
    }
   ],
   "source": [
    "PairPrices.head()"
   ]
  },
  {
   "cell_type": "code",
   "execution_count": 1196,
   "metadata": {
    "scrolled": true
   },
   "outputs": [],
   "source": [
    "PnL = []\n",
    "\n",
    "for i in range(1, len(PairPrices)):\n",
    "    \n",
    "    diff = abs( PairPrices.loc[i-1, 'close1'] / PairPrices.loc[i-1, 'close2'] \\\n",
    "    - PairPrices.loc[i, 'open1'] / PairPrices.loc[i, 'open2'] )\n",
    "    \n",
    "    if diff >= k*vol:\n",
    "        # short the pair\n",
    "        N1 = 10000\n",
    "        N2 = (-N1) * ( PairPrices.loc[i, 'open1'] / PairPrices.loc[i, 'open2'] )\n",
    "        # close the trade and calculate PnL\n",
    "        r = N1 * ( PairPrices.loc[i, 'open1'] - PairPrices.loc[i, 'close1'] ) \\\n",
    "            + N2 * ( PairPrices.loc[i, 'open2'] - PairPrices.loc[i, 'close2'] )\n",
    "        \n",
    "    elif diff < k*vol:\n",
    "        # long the pair\n",
    "        N1 = -10000\n",
    "        N2 = (-N1) * ( PairPrices.loc[i, 'open1'] / PairPrices.loc[i, 'open2'] )\n",
    "        # close the trade and calculate PnL\n",
    "        r = N1 * ( PairPrices.loc[i, 'open1'] - PairPrices.loc[i, 'close1'] ) \\\n",
    "            + N2 * ( PairPrices.loc[i, 'open2'] - PairPrices.loc[i, 'close2'] )\n",
    "    \n",
    "    PnL.append(r)"
   ]
  },
  {
   "cell_type": "code",
   "execution_count": 1197,
   "metadata": {},
   "outputs": [],
   "source": [
    "PnL.insert(0,0)"
   ]
  },
  {
   "cell_type": "code",
   "execution_count": 1198,
   "metadata": {},
   "outputs": [],
   "source": [
    "PairPrices['PnL'] = PnL"
   ]
  },
  {
   "cell_type": "code",
   "execution_count": 1199,
   "metadata": {
    "scrolled": true
   },
   "outputs": [
    {
     "data": {
      "text/html": [
       "<div>\n",
       "<style scoped>\n",
       "    .dataframe tbody tr th:only-of-type {\n",
       "        vertical-align: middle;\n",
       "    }\n",
       "\n",
       "    .dataframe tbody tr th {\n",
       "        vertical-align: top;\n",
       "    }\n",
       "\n",
       "    .dataframe thead th {\n",
       "        text-align: right;\n",
       "    }\n",
       "</style>\n",
       "<table border=\"1\" class=\"dataframe\">\n",
       "  <thead>\n",
       "    <tr style=\"text-align: right;\">\n",
       "      <th></th>\n",
       "      <th>ticker1</th>\n",
       "      <th>ticker2</th>\n",
       "      <th>date</th>\n",
       "      <th>open1</th>\n",
       "      <th>close1</th>\n",
       "      <th>open2</th>\n",
       "      <th>close2</th>\n",
       "      <th>PnL</th>\n",
       "    </tr>\n",
       "  </thead>\n",
       "  <tbody>\n",
       "    <tr>\n",
       "      <th>0</th>\n",
       "      <td>AAPL</td>\n",
       "      <td>HPQ</td>\n",
       "      <td>2018-12-31</td>\n",
       "      <td>158.53</td>\n",
       "      <td>157.74</td>\n",
       "      <td>20.49</td>\n",
       "      <td>20.46</td>\n",
       "      <td>0.000000</td>\n",
       "    </tr>\n",
       "    <tr>\n",
       "      <th>1</th>\n",
       "      <td>AAPL</td>\n",
       "      <td>HPQ</td>\n",
       "      <td>2019-01-02</td>\n",
       "      <td>154.89</td>\n",
       "      <td>157.92</td>\n",
       "      <td>20.03</td>\n",
       "      <td>20.63</td>\n",
       "      <td>-16097.403894</td>\n",
       "    </tr>\n",
       "    <tr>\n",
       "      <th>2</th>\n",
       "      <td>AAPL</td>\n",
       "      <td>HPQ</td>\n",
       "      <td>2019-01-03</td>\n",
       "      <td>143.98</td>\n",
       "      <td>142.19</td>\n",
       "      <td>20.35</td>\n",
       "      <td>19.93</td>\n",
       "      <td>11815.773956</td>\n",
       "    </tr>\n",
       "    <tr>\n",
       "      <th>3</th>\n",
       "      <td>AAPL</td>\n",
       "      <td>HPQ</td>\n",
       "      <td>2019-01-04</td>\n",
       "      <td>144.53</td>\n",
       "      <td>148.26</td>\n",
       "      <td>20.38</td>\n",
       "      <td>20.72</td>\n",
       "      <td>13188.027478</td>\n",
       "    </tr>\n",
       "    <tr>\n",
       "      <th>4</th>\n",
       "      <td>AAPL</td>\n",
       "      <td>HPQ</td>\n",
       "      <td>2019-01-07</td>\n",
       "      <td>148.70</td>\n",
       "      <td>147.93</td>\n",
       "      <td>20.75</td>\n",
       "      <td>20.95</td>\n",
       "      <td>-22032.530120</td>\n",
       "    </tr>\n",
       "  </tbody>\n",
       "</table>\n",
       "</div>"
      ],
      "text/plain": [
       "  ticker1 ticker2        date   open1  close1  open2  close2           PnL\n",
       "0    AAPL     HPQ  2018-12-31  158.53  157.74  20.49   20.46      0.000000\n",
       "1    AAPL     HPQ  2019-01-02  154.89  157.92  20.03   20.63 -16097.403894\n",
       "2    AAPL     HPQ  2019-01-03  143.98  142.19  20.35   19.93  11815.773956\n",
       "3    AAPL     HPQ  2019-01-04  144.53  148.26  20.38   20.72  13188.027478\n",
       "4    AAPL     HPQ  2019-01-07  148.70  147.93  20.75   20.95 -22032.530120"
      ]
     },
     "execution_count": 1199,
     "metadata": {},
     "output_type": "execute_result"
    }
   ],
   "source": [
    "PairPrices.head()"
   ]
  },
  {
   "cell_type": "code",
   "execution_count": 1200,
   "metadata": {},
   "outputs": [],
   "source": [
    "def populate_trades(tickers, metadata, engine):\n",
    "    conn = engine.connect()\n",
    "    table = metadata.tables['Trades']\n",
    "    \n",
    "    for i in range(len(PairPrices)):\n",
    "        \n",
    "        trading_date = PairPrices.loc[i, 'date']\n",
    "        pnl = PairPrices.loc[i, 'PnL']\n",
    "        \n",
    "        insert_st = table.insert().values(ticker1=tickers[0], ticker2=tickers[1], date=trading_date,\n",
    "\t\t\t\t\tprofit_loss = pnl)\n",
    "    \n",
    "        conn.execute(insert_st)"
   ]
  },
  {
   "cell_type": "code",
   "execution_count": 1201,
   "metadata": {},
   "outputs": [],
   "source": [
    "populate_trades(tickers, metadata, engine)"
   ]
  },
  {
   "cell_type": "code",
   "execution_count": 1202,
   "metadata": {},
   "outputs": [],
   "source": [
    "sql_st = 'SELECT * FROM Trades'\n",
    "result = execute_sql_statement(sql_st, engine)"
   ]
  },
  {
   "cell_type": "code",
   "execution_count": 1203,
   "metadata": {},
   "outputs": [
    {
     "data": {
      "text/html": [
       "<div>\n",
       "<style scoped>\n",
       "    .dataframe tbody tr th:only-of-type {\n",
       "        vertical-align: middle;\n",
       "    }\n",
       "\n",
       "    .dataframe tbody tr th {\n",
       "        vertical-align: top;\n",
       "    }\n",
       "\n",
       "    .dataframe thead th {\n",
       "        text-align: right;\n",
       "    }\n",
       "</style>\n",
       "<table border=\"1\" class=\"dataframe\">\n",
       "  <thead>\n",
       "    <tr style=\"text-align: right;\">\n",
       "      <th></th>\n",
       "      <th>ticker1</th>\n",
       "      <th>ticker2</th>\n",
       "      <th>date</th>\n",
       "      <th>PnL</th>\n",
       "    </tr>\n",
       "  </thead>\n",
       "  <tbody>\n",
       "    <tr>\n",
       "      <th>0</th>\n",
       "      <td>AAPL</td>\n",
       "      <td>HPQ</td>\n",
       "      <td>2018-12-31</td>\n",
       "      <td>0.000000</td>\n",
       "    </tr>\n",
       "    <tr>\n",
       "      <th>1</th>\n",
       "      <td>AAPL</td>\n",
       "      <td>HPQ</td>\n",
       "      <td>2019-01-02</td>\n",
       "      <td>-16097.403894</td>\n",
       "    </tr>\n",
       "    <tr>\n",
       "      <th>2</th>\n",
       "      <td>AAPL</td>\n",
       "      <td>HPQ</td>\n",
       "      <td>2019-01-03</td>\n",
       "      <td>11815.773956</td>\n",
       "    </tr>\n",
       "    <tr>\n",
       "      <th>3</th>\n",
       "      <td>AAPL</td>\n",
       "      <td>HPQ</td>\n",
       "      <td>2019-01-04</td>\n",
       "      <td>13188.027478</td>\n",
       "    </tr>\n",
       "    <tr>\n",
       "      <th>4</th>\n",
       "      <td>AAPL</td>\n",
       "      <td>HPQ</td>\n",
       "      <td>2019-01-07</td>\n",
       "      <td>-22032.530120</td>\n",
       "    </tr>\n",
       "  </tbody>\n",
       "</table>\n",
       "</div>"
      ],
      "text/plain": [
       "  ticker1 ticker2        date           PnL\n",
       "0    AAPL     HPQ  2018-12-31      0.000000\n",
       "1    AAPL     HPQ  2019-01-02 -16097.403894\n",
       "2    AAPL     HPQ  2019-01-03  11815.773956\n",
       "3    AAPL     HPQ  2019-01-04  13188.027478\n",
       "4    AAPL     HPQ  2019-01-07 -22032.530120"
      ]
     },
     "execution_count": 1203,
     "metadata": {},
     "output_type": "execute_result"
    }
   ],
   "source": [
    "Trades = pd.DataFrame(result.fetchall(), columns=['ticker1', 'ticker2', 'date', 'PnL'])\n",
    "Trades.head()"
   ]
  },
  {
   "cell_type": "code",
   "execution_count": 1204,
   "metadata": {},
   "outputs": [
    {
     "data": {
      "text/plain": [
       "-6066.149696488279"
      ]
     },
     "execution_count": 1204,
     "metadata": {},
     "output_type": "execute_result"
    }
   ],
   "source": [
    "total_PnL = Trades['PnL'].sum()\n",
    "total_PnL"
   ]
  },
  {
   "cell_type": "code",
   "execution_count": 1205,
   "metadata": {},
   "outputs": [],
   "source": [
    "def populate_pairs(tickers, metadata, engine):\n",
    "    conn = engine.connect()\n",
    "    table = metadata.tables['Pairs']\n",
    "                    \n",
    "    insert_st = table.insert().values(ticker1=tickers[0], ticker2=tickers[1], volatility=vol,\n",
    "\t\t\t\tprofit_loss = total_PnL)\n",
    "    \n",
    "    conn.execute(insert_st)"
   ]
  },
  {
   "cell_type": "code",
   "execution_count": 1206,
   "metadata": {},
   "outputs": [],
   "source": [
    "populate_pairs(tickers, metadata, engine)"
   ]
  },
  {
   "cell_type": "code",
   "execution_count": 1207,
   "metadata": {},
   "outputs": [],
   "source": [
    "sql_st = 'SELECT * FROM Pairs'\n",
    "result = execute_sql_statement(sql_st, engine)"
   ]
  },
  {
   "cell_type": "code",
   "execution_count": 1208,
   "metadata": {},
   "outputs": [
    {
     "data": {
      "text/plain": [
       "[('AAPL', 'HPQ', 0.599085419217168, -6066.149696488279)]"
      ]
     },
     "execution_count": 1208,
     "metadata": {},
     "output_type": "execute_result"
    }
   ],
   "source": [
    "result.fetchall()"
   ]
  },
  {
   "cell_type": "code",
   "execution_count": null,
   "metadata": {},
   "outputs": [],
   "source": []
  }
 ],
 "metadata": {
  "kernelspec": {
   "display_name": "Python 3",
   "language": "python",
   "name": "python3"
  },
  "language_info": {
   "codemirror_mode": {
    "name": "ipython",
    "version": 3
   },
   "file_extension": ".py",
   "mimetype": "text/x-python",
   "name": "python",
   "nbconvert_exporter": "python",
   "pygments_lexer": "ipython3",
   "version": "3.6.8"
  },
  "toc": {
   "base_numbering": 1,
   "nav_menu": {},
   "number_sections": true,
   "sideBar": true,
   "skip_h1_title": false,
   "title_cell": "Table of Contents",
   "title_sidebar": "Contents",
   "toc_cell": false,
   "toc_position": {},
   "toc_section_display": true,
   "toc_window_display": false
  }
 },
 "nbformat": 4,
 "nbformat_minor": 2
}
